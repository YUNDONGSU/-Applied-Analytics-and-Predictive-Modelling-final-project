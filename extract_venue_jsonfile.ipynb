{
 "cells": [
  {
   "cell_type": "code",
   "execution_count": null,
   "metadata": {
    "collapsed": true
   },
   "outputs": [],
   "source": [
    "import sys\n",
    "!conda install --yes --prefix {sys.prefix} numpy"
   ]
  },
  {
   "cell_type": "code",
   "execution_count": null,
   "metadata": {
    "collapsed": true
   },
   "outputs": [],
   "source": [
    "import sys\n",
    "!pip install foursquare"
   ]
  },
  {
   "cell_type": "code",
   "execution_count": 1,
   "metadata": {
    "collapsed": true
   },
   "outputs": [],
   "source": [
    "# Construct the client object\n",
    "import foursquare\n",
    "client = foursquare.Foursquare(client_id='FHFKBIHXOAXWCGJMDSC5AXVJQQTQRP5RHJ50XQ0GEU0JQOU2', client_secret='FC0CQZOLG0GJGALJB4HTHZK05HPHHK2TXGJKNKHUUU0HCODV', version='20180404')"
   ]
  },
  {
   "cell_type": "code",
   "execution_count": 2,
   "metadata": {},
   "outputs": [
    {
     "name": "stdout",
     "output_type": "stream",
     "text": [
      "                            0\n",
      "0    4d4b7104d754a06370d81259\n",
      "1    56aa371be4b08b9a8d5734db\n",
      "2    4fceea171983d5d06c3e9823\n",
      "3    4bf58dd8d48988d1e1931735\n",
      "4    4bf58dd8d48988d1e2931735\n",
      "5    4bf58dd8d48988d1e4931735\n",
      "6    4bf58dd8d48988d17c941735\n",
      "7    52e81612bcbc57f1066b79e7\n",
      "8    4bf58dd8d48988d18e941735\n",
      "9    5032792091d4c4b30a586d5c\n",
      "10   52e81612bcbc57f1066b79ef\n",
      "11   52e81612bcbc57f1066b79e8\n",
      "12   56aa371be4b08b9a8d573532\n",
      "13   4bf58dd8d48988d1f1931735\n",
      "14   52e81612bcbc57f1066b79ea\n",
      "15   4deefb944765f83613cdba6e\n",
      "16   5744ccdfe4b0c0459246b4bb\n",
      "17   52e81612bcbc57f1066b79e6\n",
      "18   5642206c498e4bfca532186c\n",
      "19   52e81612bcbc57f1066b79eb\n",
      "20   4bf58dd8d48988d17f941735\n",
      "21   56aa371be4b08b9a8d5734de\n",
      "22   4bf58dd8d48988d17e941735\n",
      "23   4bf58dd8d48988d180941735\n",
      "24   4bf58dd8d48988d181941735\n",
      "25   4bf58dd8d48988d18f941735\n",
      "26   559acbe0498e472f1a53fa23\n",
      "27   4bf58dd8d48988d190941735\n",
      "28   4bf58dd8d48988d192941735\n",
      "29   4bf58dd8d48988d191941735\n",
      "..                        ...\n",
      "658  4bf58dd8d48988d179941735\n",
      "659  4bf58dd8d48988d16a941735\n",
      "660  52e81612bcbc57f1066b7a02\n",
      "661  52e81612bcbc57f1066b79f1\n",
      "662  4bf58dd8d48988d143941735\n",
      "663  52e81612bcbc57f1066b7a0c\n",
      "664  52e81612bcbc57f1066b79f4\n",
      "665  4bf58dd8d48988d16c941735\n",
      "666  4bf58dd8d48988d128941735\n",
      "667  4bf58dd8d48988d16d941735\n",
      "668  4bf58dd8d48988d17a941735\n",
      "669  4bf58dd8d48988d144941735\n",
      "670  5293a7d53cf9994f4e043a45\n",
      "671  4bf58dd8d48988d172941735\n",
      "672  58daa1548bbb0b01f18ec1a9\n",
      "673  5310b8e5bcbc57f1066bcbf1\n",
      "674  5032856091d4c4b30a586d63\n",
      "675  52f2ab2ebcbc57f1066b8b57\n",
      "676  58daa1558bbb0b01f18ec1b2\n",
      "677  52e81612bcbc57f1066b7a2b\n",
      "678  4bf58dd8d48988d1e8941735\n",
      "679  4bf58dd8d48988d1e1941735\n",
      "680  52e81612bcbc57f1066b7a2f\n",
      "681  56aa371be4b08b9a8d57351a\n",
      "682  4bf58dd8d48988d1e6941735\n",
      "683  58daa1558bbb0b01f18ec1b0\n",
      "684  52e81612bcbc57f1066b7a33\n",
      "685  4bf58dd8d48988d131941735\n",
      "686  52e81612bcbc57f1066b7a31\n",
      "687  56aa371be4b08b9a8d57356a\n",
      "\n",
      "[688 rows x 1 columns]\n"
     ]
    }
   ],
   "source": [
    "import pandas as pd\n",
    "\n",
    "categories = pd.read_csv(\"C:\\\\Users\\\\Dominick\\\\School\\\\M.S. Business Analytics\\\\Applied Analytics and Predictive Models\\\\Final Project\\\\FourSquare Information\\\\CategoriesIDs.csv\", header=None)\n",
    "\n",
    "print(categories)"
   ]
  },
  {
   "cell_type": "code",
   "execution_count": 3,
   "metadata": {
    "collapsed": true
   },
   "outputs": [],
   "source": [
    "import json"
   ]
  },
  {
   "cell_type": "code",
   "execution_count": 4,
   "metadata": {},
   "outputs": [
    {
     "name": "stdout",
     "output_type": "stream",
     "text": [
      "{}\n"
     ]
    }
   ],
   "source": [
    "venuesnew = {}\n",
    "type(venuesnew)\n",
    "print(venuesnew)"
   ]
  },
  {
   "cell_type": "code",
   "execution_count": 5,
   "metadata": {
    "collapsed": true
   },
   "outputs": [],
   "source": [
    "def merge_two_dicts(x, y):\n",
    "    z = x.copy()   # start with x's keys and values\n",
    "    z.update(y)    # modifies z with y's keys and values & returns None\n",
    "    return z"
   ]
  },
  {
   "cell_type": "code",
   "execution_count": 6,
   "metadata": {
    "collapsed": true
   },
   "outputs": [],
   "source": [
    "t2018={}\n",
    "for x in range(668):\n",
    "    venues1 = client.venues.search(params={'near': 'New York, NY', 'categoryId': categories[0][x]})\n",
    "    t2018[x] = venues1\n",
    "   "
   ]
  },
  {
   "cell_type": "code",
   "execution_count": 7,
   "metadata": {
    "collapsed": true
   },
   "outputs": [],
   "source": [
    "with open('result2018.json', 'w') as fp:\n",
    "        json.dump(t2018, fp)"
   ]
  },
  {
   "cell_type": "code",
   "execution_count": null,
   "metadata": {
    "collapsed": true
   },
   "outputs": [],
   "source": [
    "z={}\n",
    "for i in range(5):\n",
    "    x={\"X\":i}\n",
    "    y={\"Y\":2}\n",
    "    z[i] = merge_two_dicts(x,y)\n",
    "    print(z)"
   ]
  },
  {
   "cell_type": "code",
   "execution_count": null,
   "metadata": {
    "collapsed": true
   },
   "outputs": [],
   "source": []
  }
 ],
 "metadata": {
  "kernelspec": {
   "display_name": "Python 3",
   "language": "python",
   "name": "python3"
  },
  "language_info": {
   "codemirror_mode": {
    "name": "ipython",
    "version": 3
   },
   "file_extension": ".py",
   "mimetype": "text/x-python",
   "name": "python",
   "nbconvert_exporter": "python",
   "pygments_lexer": "ipython3",
   "version": "3.6.1"
  }
 },
 "nbformat": 4,
 "nbformat_minor": 2
}
