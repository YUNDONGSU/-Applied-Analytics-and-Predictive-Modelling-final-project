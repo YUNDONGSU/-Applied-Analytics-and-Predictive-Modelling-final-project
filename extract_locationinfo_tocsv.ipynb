{
 "cells": [
  {
   "cell_type": "code",
   "execution_count": null,
   "metadata": {
    "collapsed": true
   },
   "outputs": [],
   "source": [
    "import json   #This imports the JSON\n",
    "from pprint import pprint  #This will print the file in a nested way. \n",
    "\n",
    "with open('result2018.json') as data_file:   #The \"with\" incorporates an open and close of file.   \n",
    "    datajson = json.load(data_file)\n",
    "\n",
    "\n",
    "pprint(datajson) #Pretty printing (pprint) makes it easier to see the nesting of the files. \n"
   ]
  },
  {
   "cell_type": "code",
   "execution_count": null,
   "metadata": {
    "collapsed": true
   },
   "outputs": [],
   "source": [
    "import json\n",
    "\n",
    "with open('result2018.json', encoding='utf-8') as f:\n",
    "    line = f.readline()\n",
    "    d = json.loads(line)\n",
    "    print(type(d))\n",
    "    f.close()"
   ]
  },
  {
   "cell_type": "code",
   "execution_count": null,
   "metadata": {
    "collapsed": true
   },
   "outputs": [],
   "source": [
    "import pandas as pd\n",
    "df = pd.DataFrame([d], columns=d.keys())\n",
    "df"
   ]
  },
  {
   "cell_type": "code",
   "execution_count": null,
   "metadata": {
    "collapsed": true
   },
   "outputs": [],
   "source": [
    "newDF=pd.DataFrame()\n",
    "\n",
    "for mm in range(668):\n",
    "    m=df.iloc[0,mm]\n",
    "    dataf=pd.DataFrame([m],columns=m.keys())\n",
    "    x=dataf.iloc[0,0]\n",
    "    dataf1=pd.DataFrame([x])\n",
    "    for i in range(len(dataf1.columns)):\n",
    "        y=dataf1.iloc[0,i]\n",
    "        dataf2=pd.DataFrame([y],columns=y.keys())\n",
    "        location=dataf2.iloc[0,3]\n",
    "        venueid=dataf2.iloc[0,0]\n",
    "        dataf3=pd.DataFrame([venueid])\n",
    "        dataf3.columns = ['venueid']\n",
    "        dataf4=pd.DataFrame([location],columns=location.keys())\n",
    "        venueid_location=pd.concat([dataf4,dataf3],axis=1)\n",
    "        newDF=newDF.append(venueid_location)\n",
    "        i=i+1\n",
    "    \n",
    "\n",
    "    "
   ]
  }
 ],
 "metadata": {
  "kernelspec": {
   "display_name": "Python 3",
   "language": "python",
   "name": "python3"
  },
  "language_info": {
   "codemirror_mode": {
    "name": "ipython",
    "version": 3
   },
   "file_extension": ".py",
   "mimetype": "text/x-python",
   "name": "python",
   "nbconvert_exporter": "python",
   "pygments_lexer": "ipython3",
   "version": "3.6.1"
  }
 },
 "nbformat": 4,
 "nbformat_minor": 2
}
