{
 "cells": [
  {
   "cell_type": "code",
   "execution_count": 1,
   "metadata": {
    "collapsed": true
   },
   "outputs": [],
   "source": [
    "import pandas as pd\n",
    "import matplotlib.pyplot as plt\n",
    "import seaborn as sns\n",
    "%matplotlib inline\n",
    "import numpy as np"
   ]
  },
  {
   "cell_type": "code",
   "execution_count": 2,
   "metadata": {
    "collapsed": true
   },
   "outputs": [],
   "source": [
    "# Import traing and testing data\n",
    "train = pd.read_csv('data/train.csv')\n",
    "test = pd.read_csv('data/test.csv')"
   ]
  },
  {
   "cell_type": "code",
   "execution_count": 3,
   "metadata": {},
   "outputs": [
    {
     "data": {
      "text/html": [
       "<div>\n",
       "<style>\n",
       "    .dataframe thead tr:only-child th {\n",
       "        text-align: right;\n",
       "    }\n",
       "\n",
       "    .dataframe thead th {\n",
       "        text-align: left;\n",
       "    }\n",
       "\n",
       "    .dataframe tbody tr th {\n",
       "        vertical-align: top;\n",
       "    }\n",
       "</style>\n",
       "<table border=\"1\" class=\"dataframe\">\n",
       "  <thead>\n",
       "    <tr style=\"text-align: right;\">\n",
       "      <th></th>\n",
       "      <th>Id</th>\n",
       "      <th>MSSubClass</th>\n",
       "      <th>MSZoning</th>\n",
       "      <th>LotFrontage</th>\n",
       "      <th>LotArea</th>\n",
       "      <th>Street</th>\n",
       "      <th>Alley</th>\n",
       "      <th>LotShape</th>\n",
       "      <th>LandContour</th>\n",
       "      <th>Utilities</th>\n",
       "      <th>...</th>\n",
       "      <th>PoolArea</th>\n",
       "      <th>PoolQC</th>\n",
       "      <th>Fence</th>\n",
       "      <th>MiscFeature</th>\n",
       "      <th>MiscVal</th>\n",
       "      <th>MoSold</th>\n",
       "      <th>YrSold</th>\n",
       "      <th>SaleType</th>\n",
       "      <th>SaleCondition</th>\n",
       "      <th>SalePrice</th>\n",
       "    </tr>\n",
       "  </thead>\n",
       "  <tbody>\n",
       "    <tr>\n",
       "      <th>0</th>\n",
       "      <td>1</td>\n",
       "      <td>60</td>\n",
       "      <td>RL</td>\n",
       "      <td>65.0</td>\n",
       "      <td>8450</td>\n",
       "      <td>Pave</td>\n",
       "      <td>NaN</td>\n",
       "      <td>Reg</td>\n",
       "      <td>Lvl</td>\n",
       "      <td>AllPub</td>\n",
       "      <td>...</td>\n",
       "      <td>0</td>\n",
       "      <td>NaN</td>\n",
       "      <td>NaN</td>\n",
       "      <td>NaN</td>\n",
       "      <td>0</td>\n",
       "      <td>2</td>\n",
       "      <td>2008</td>\n",
       "      <td>WD</td>\n",
       "      <td>Normal</td>\n",
       "      <td>208500</td>\n",
       "    </tr>\n",
       "    <tr>\n",
       "      <th>1</th>\n",
       "      <td>2</td>\n",
       "      <td>20</td>\n",
       "      <td>RL</td>\n",
       "      <td>80.0</td>\n",
       "      <td>9600</td>\n",
       "      <td>Pave</td>\n",
       "      <td>NaN</td>\n",
       "      <td>Reg</td>\n",
       "      <td>Lvl</td>\n",
       "      <td>AllPub</td>\n",
       "      <td>...</td>\n",
       "      <td>0</td>\n",
       "      <td>NaN</td>\n",
       "      <td>NaN</td>\n",
       "      <td>NaN</td>\n",
       "      <td>0</td>\n",
       "      <td>5</td>\n",
       "      <td>2007</td>\n",
       "      <td>WD</td>\n",
       "      <td>Normal</td>\n",
       "      <td>181500</td>\n",
       "    </tr>\n",
       "    <tr>\n",
       "      <th>2</th>\n",
       "      <td>3</td>\n",
       "      <td>60</td>\n",
       "      <td>RL</td>\n",
       "      <td>68.0</td>\n",
       "      <td>11250</td>\n",
       "      <td>Pave</td>\n",
       "      <td>NaN</td>\n",
       "      <td>IR1</td>\n",
       "      <td>Lvl</td>\n",
       "      <td>AllPub</td>\n",
       "      <td>...</td>\n",
       "      <td>0</td>\n",
       "      <td>NaN</td>\n",
       "      <td>NaN</td>\n",
       "      <td>NaN</td>\n",
       "      <td>0</td>\n",
       "      <td>9</td>\n",
       "      <td>2008</td>\n",
       "      <td>WD</td>\n",
       "      <td>Normal</td>\n",
       "      <td>223500</td>\n",
       "    </tr>\n",
       "    <tr>\n",
       "      <th>3</th>\n",
       "      <td>4</td>\n",
       "      <td>70</td>\n",
       "      <td>RL</td>\n",
       "      <td>60.0</td>\n",
       "      <td>9550</td>\n",
       "      <td>Pave</td>\n",
       "      <td>NaN</td>\n",
       "      <td>IR1</td>\n",
       "      <td>Lvl</td>\n",
       "      <td>AllPub</td>\n",
       "      <td>...</td>\n",
       "      <td>0</td>\n",
       "      <td>NaN</td>\n",
       "      <td>NaN</td>\n",
       "      <td>NaN</td>\n",
       "      <td>0</td>\n",
       "      <td>2</td>\n",
       "      <td>2006</td>\n",
       "      <td>WD</td>\n",
       "      <td>Abnorml</td>\n",
       "      <td>140000</td>\n",
       "    </tr>\n",
       "    <tr>\n",
       "      <th>4</th>\n",
       "      <td>5</td>\n",
       "      <td>60</td>\n",
       "      <td>RL</td>\n",
       "      <td>84.0</td>\n",
       "      <td>14260</td>\n",
       "      <td>Pave</td>\n",
       "      <td>NaN</td>\n",
       "      <td>IR1</td>\n",
       "      <td>Lvl</td>\n",
       "      <td>AllPub</td>\n",
       "      <td>...</td>\n",
       "      <td>0</td>\n",
       "      <td>NaN</td>\n",
       "      <td>NaN</td>\n",
       "      <td>NaN</td>\n",
       "      <td>0</td>\n",
       "      <td>12</td>\n",
       "      <td>2008</td>\n",
       "      <td>WD</td>\n",
       "      <td>Normal</td>\n",
       "      <td>250000</td>\n",
       "    </tr>\n",
       "  </tbody>\n",
       "</table>\n",
       "<p>5 rows × 81 columns</p>\n",
       "</div>"
      ],
      "text/plain": [
       "   Id  MSSubClass MSZoning  LotFrontage  LotArea Street Alley LotShape  \\\n",
       "0   1          60       RL         65.0     8450   Pave   NaN      Reg   \n",
       "1   2          20       RL         80.0     9600   Pave   NaN      Reg   \n",
       "2   3          60       RL         68.0    11250   Pave   NaN      IR1   \n",
       "3   4          70       RL         60.0     9550   Pave   NaN      IR1   \n",
       "4   5          60       RL         84.0    14260   Pave   NaN      IR1   \n",
       "\n",
       "  LandContour Utilities    ...     PoolArea PoolQC Fence MiscFeature MiscVal  \\\n",
       "0         Lvl    AllPub    ...            0    NaN   NaN         NaN       0   \n",
       "1         Lvl    AllPub    ...            0    NaN   NaN         NaN       0   \n",
       "2         Lvl    AllPub    ...            0    NaN   NaN         NaN       0   \n",
       "3         Lvl    AllPub    ...            0    NaN   NaN         NaN       0   \n",
       "4         Lvl    AllPub    ...            0    NaN   NaN         NaN       0   \n",
       "\n",
       "  MoSold YrSold  SaleType  SaleCondition  SalePrice  \n",
       "0      2   2008        WD         Normal     208500  \n",
       "1      5   2007        WD         Normal     181500  \n",
       "2      9   2008        WD         Normal     223500  \n",
       "3      2   2006        WD        Abnorml     140000  \n",
       "4     12   2008        WD         Normal     250000  \n",
       "\n",
       "[5 rows x 81 columns]"
      ]
     },
     "execution_count": 3,
     "metadata": {},
     "output_type": "execute_result"
    }
   ],
   "source": [
    "train.head()"
   ]
  },
  {
   "cell_type": "code",
   "execution_count": 4,
   "metadata": {
    "collapsed": true
   },
   "outputs": [],
   "source": [
    "train_cleaned = train[:]"
   ]
  },
  {
   "cell_type": "code",
   "execution_count": 5,
   "metadata": {},
   "outputs": [
    {
     "data": {
      "text/plain": [
       "(1460, 81)"
      ]
     },
     "execution_count": 5,
     "metadata": {},
     "output_type": "execute_result"
    }
   ],
   "source": [
    "train_cleaned.shape"
   ]
  },
  {
   "cell_type": "code",
   "execution_count": 6,
   "metadata": {},
   "outputs": [
    {
     "data": {
      "text/plain": [
       "(2919, 79)"
      ]
     },
     "execution_count": 6,
     "metadata": {},
     "output_type": "execute_result"
    }
   ],
   "source": [
    "# Extract feature columns from both datasets and combine the two sets of features together\n",
    "train_features = train_cleaned.iloc[:,1:80]\n",
    "test_features = test.iloc[:,1:80]\n",
    "whole_features = pd.concat([train_features,test_features])\n",
    "whole_features.shape"
   ]
  },
  {
   "cell_type": "code",
   "execution_count": 7,
   "metadata": {
    "collapsed": true
   },
   "outputs": [],
   "source": [
    "# Create new features\n",
    "whole_features['AgeBuilt'] = whole_features['YrSold'] - whole_features['YearBuilt']\n",
    "whole_features['AgeRemodAdd'] = whole_features['YrSold'] - whole_features['YearRemodAdd']\n",
    "whole_features['AgeGararge'] = whole_features['YrSold'] - whole_features['GarageYrBlt']"
   ]
  },
  {
   "cell_type": "code",
   "execution_count": 8,
   "metadata": {
    "collapsed": true
   },
   "outputs": [],
   "source": [
    "del whole_features['YearBuilt']\n",
    "del whole_features['YearRemodAdd']\n",
    "del whole_features['GarageYrBlt']"
   ]
  },
  {
   "cell_type": "code",
   "execution_count": 9,
   "metadata": {
    "collapsed": true
   },
   "outputs": [],
   "source": [
    "del whole_features['YrSold']"
   ]
  },
  {
   "cell_type": "code",
   "execution_count": 10,
   "metadata": {},
   "outputs": [
    {
     "name": "stdout",
     "output_type": "stream",
     "text": [
      "('MSZoning', 4)\n",
      "('LotFrontage', 486)\n",
      "('Alley', 2721)\n",
      "('Utilities', 2)\n",
      "('Exterior1st', 1)\n",
      "('Exterior2nd', 1)\n",
      "('MasVnrType', 24)\n",
      "('MasVnrArea', 23)\n",
      "('BsmtQual', 81)\n",
      "('BsmtCond', 82)\n",
      "('BsmtExposure', 82)\n",
      "('BsmtFinType1', 79)\n",
      "('BsmtFinSF1', 1)\n",
      "('BsmtFinType2', 80)\n",
      "('BsmtFinSF2', 1)\n",
      "('BsmtUnfSF', 1)\n",
      "('TotalBsmtSF', 1)\n",
      "('Electrical', 1)\n",
      "('BsmtFullBath', 2)\n",
      "('BsmtHalfBath', 2)\n",
      "('KitchenQual', 1)\n",
      "('Functional', 2)\n",
      "('FireplaceQu', 1420)\n",
      "('GarageType', 157)\n",
      "('GarageFinish', 159)\n",
      "('GarageCars', 1)\n",
      "('GarageArea', 1)\n",
      "('GarageQual', 159)\n",
      "('GarageCond', 159)\n",
      "('PoolQC', 2909)\n",
      "('Fence', 2348)\n",
      "('MiscFeature', 2814)\n",
      "('SaleType', 1)\n",
      "('AgeGararge', 159)\n"
     ]
    }
   ],
   "source": [
    "# Show the null values in train_cleaned\n",
    "for key in whole_features.isnull().sum().iteritems():\n",
    "    if key[1] != 0:\n",
    "        print(key)"
   ]
  },
  {
   "cell_type": "code",
   "execution_count": 11,
   "metadata": {
    "collapsed": true
   },
   "outputs": [],
   "source": [
    "# Fill the quantitative columns of which the corresponding qualitative columns are None with 0s\n",
    "for feature in ['MasVnrArea','BsmtFinSF1','BsmtFinSF2','BsmtUnfSF','TotalBsmtSF','BsmtFullBath','BsmtHalfBath',\n",
    "                'GarageFinish']:\n",
    "    whole_features[feature] = whole_features[feature].fillna(0)"
   ]
  },
  {
   "cell_type": "code",
   "execution_count": 12,
   "metadata": {
    "collapsed": true
   },
   "outputs": [],
   "source": [
    "# Remove the features with too many null values\n",
    "for feature in ['PoolQC','Fence','MiscFeature','Alley']:\n",
    "    del whole_features[feature]"
   ]
  },
  {
   "cell_type": "code",
   "execution_count": 22,
   "metadata": {
    "collapsed": true
   },
   "outputs": [],
   "source": [
    "data_stat = pd.concat([train['SalePrice'],whole_features[['GrLivArea','GarageArea',\n",
    "                                                         'OverallQual','AgeBuilt','AgeGararge','Fireplaces','OverallCond']][0:1460]],axis=1)\n",
    "data_stat = data_stat.dropna()\n",
    "data_stat[0:300].to_csv('data/stat.csv')"
   ]
  },
  {
   "cell_type": "code",
   "execution_count": 23,
   "metadata": {
    "collapsed": true
   },
   "outputs": [],
   "source": [
    "# Fill some null values with default values\n",
    "whole_features['SaleType'] = whole_features['SaleType'].fillna('oth')\n",
    "whole_features['Functional'] = whole_features['Functional'].fillna('Typ')\n",
    "whole_features['Exterior1st'] = whole_features['Exterior1st'].fillna('Other')\n",
    "whole_features['Exterior2nd'] = whole_features['Exterior2nd'].fillna('Other')"
   ]
  },
  {
   "cell_type": "code",
   "execution_count": 14,
   "metadata": {
    "collapsed": true
   },
   "outputs": [],
   "source": [
    "# Fill quantitative null values with the mean of corresponding column\n",
    "whole_features = whole_features.fillna(whole_features.mean())\n",
    "    \n",
    "# Fill qualitative null values with 'NoValue'\n",
    "whole_features = whole_features.fillna('NoValue')\n"
   ]
  },
  {
   "cell_type": "code",
   "execution_count": 15,
   "metadata": {
    "collapsed": true
   },
   "outputs": [],
   "source": [
    "# Get dummy values\n",
    "whole_features = pd.get_dummies(whole_features)"
   ]
  },
  {
   "cell_type": "code",
   "execution_count": 16,
   "metadata": {},
   "outputs": [
    {
     "data": {
      "text/plain": [
       "(2919, 291)"
      ]
     },
     "execution_count": 16,
     "metadata": {},
     "output_type": "execute_result"
    }
   ],
   "source": [
    "whole_features.shape"
   ]
  },
  {
   "cell_type": "code",
   "execution_count": 17,
   "metadata": {},
   "outputs": [
    {
     "data": {
      "text/plain": [
       "(2919, 286)"
      ]
     },
     "execution_count": 17,
     "metadata": {},
     "output_type": "execute_result"
    }
   ],
   "source": [
    "# Delete colmns with s of 0 in training set\n",
    "for col in whole_features.columns:\n",
    "    if whole_features[col][0:1460].std() == 0:\n",
    "        del whole_features[col]\n",
    "whole_features.shape"
   ]
  },
  {
   "cell_type": "code",
   "execution_count": 18,
   "metadata": {
    "collapsed": true
   },
   "outputs": [],
   "source": [
    "# Standardize quantitative variables\n",
    "whole_features_std = whole_features[:]\n",
    "for col in whole_features.columns:\n",
    "    if not (whole_features[col].mean()<=1 and whole_features[col].mean()>=0):\n",
    "        whole_features_std[col] = (whole_features[col]-whole_features[col].mean())/whole_features[col].std()"
   ]
  },
  {
   "cell_type": "code",
   "execution_count": 19,
   "metadata": {
    "collapsed": true
   },
   "outputs": [],
   "source": [
    "# Define X and y for modeling\n",
    "y = train_cleaned.iloc[:,80:81]\n",
    "X = whole_features[0:1460]"
   ]
  },
  {
   "cell_type": "code",
   "execution_count": 20,
   "metadata": {
    "collapsed": true
   },
   "outputs": [],
   "source": [
    "# Define standardized X\n",
    "X_std = whole_features_std[0:1460]"
   ]
  },
  {
   "cell_type": "code",
   "execution_count": 224,
   "metadata": {},
   "outputs": [
    {
     "data": {
      "text/plain": [
       "ExterQual_TA     -0.589044\n",
       "AgeBuilt         -0.523350\n",
       "KitchenQual_TA   -0.519298\n",
       "AgeRemodAdd      -0.509079\n",
       "KitchenQual_Ex    0.504094\n",
       "TotRmsAbvGrd      0.533723\n",
       "BsmtQual_Ex       0.553105\n",
       "FullBath          0.560664\n",
       "1stFlrSF          0.605852\n",
       "TotalBsmtSF       0.613581\n",
       "GarageArea        0.623431\n",
       "GarageCars        0.640409\n",
       "GrLivArea         0.708624\n",
       "OverallQual       0.790982\n",
       "SalePrice         1.000000\n",
       "Name: SalePrice, dtype: float64"
      ]
     },
     "execution_count": 224,
     "metadata": {},
     "output_type": "execute_result"
    }
   ],
   "source": [
    "# Show features highly correlated with target value\n",
    "target_corr = pd.concat([X,y],axis=1).corr()['SalePrice']\n",
    "target_corr[abs(target_corr.values)>0.5].sort_values()"
   ]
  },
  {
   "cell_type": "code",
   "execution_count": 22,
   "metadata": {
    "collapsed": true
   },
   "outputs": [],
   "source": [
    "# Try some basic linear regression models\n",
    "from sklearn import linear_model\n",
    "from sklearn.model_selection import cross_val_score\n",
    "from sklearn.metrics import mean_squared_error"
   ]
  },
  {
   "cell_type": "code",
   "execution_count": 23,
   "metadata": {
    "scrolled": true
   },
   "outputs": [
    {
     "name": "stdout",
     "output_type": "stream",
     "text": [
      "Best alpha for Ridge model: 15.0\n"
     ]
    },
    {
     "data": {
      "text/plain": [
       "0.15652586601040683"
      ]
     },
     "execution_count": 23,
     "metadata": {},
     "output_type": "execute_result"
    }
   ],
   "source": [
    "# Ridge model\n",
    "\n",
    "# Select the best regularizing parameter (alpha)\n",
    "reg_ridge = linear_model.RidgeCV(alphas=[0.1,0.2,10,10.5,11,11.5,12,13,14,15,16,17,20])\n",
    "reg_ridge.fit(X_std,y)\n",
    "print('Best alpha for Ridge model: '+str(reg_ridge.alpha_))\n",
    "# The best alpha to this model is 15\n",
    "\n",
    "# Train the model based on train_cleaned\n",
    "reg_ridge = linear_model.Ridge(alpha=15)\n",
    "reg_ridge.fit(X_std,y)\n",
    "\n",
    "np.sqrt(-cross_val_score(reg_ridge,X_std,y,scoring='neg_mean_squared_log_error')).mean()"
   ]
  },
  {
   "cell_type": "code",
   "execution_count": 24,
   "metadata": {},
   "outputs": [
    {
     "name": "stderr",
     "output_type": "stream",
     "text": [
      "/Applications/anaconda3/lib/python3.6/site-packages/sklearn/linear_model/coordinate_descent.py:1094: DataConversionWarning: A column-vector y was passed when a 1d array was expected. Please change the shape of y to (n_samples, ), for example using ravel().\n",
      "  y = column_or_1d(y, warn=True)\n"
     ]
    },
    {
     "name": "stdout",
     "output_type": "stream",
     "text": [
      "Best alpha for Lasso model: 100\n",
      "0.146814037608\n"
     ]
    }
   ],
   "source": [
    "# Lasso model\n",
    "\n",
    "# Select the best regularizing parameter (alpha)\n",
    "reg_lasso = linear_model.LassoCV(alphas=[5, 10, 15, 30, 50,75,100,105,110,120,125],tol=0.001) \n",
    "# The defalt tol is 0.0001, but the model does not converge until it is increased to 0.001\n",
    "reg_lasso.fit(X_std,y)\n",
    "print('Best alpha for Lasso model: '+str(reg_lasso.alpha_))\n",
    "\n",
    "# Train the model based on train_cleaned\n",
    "reg_lasso = linear_model.Lasso(alpha=75,tol=0.001)\n",
    "reg_lasso.fit(X_std,y)\n",
    "print(np.sqrt(-cross_val_score(reg_lasso,X_std,y,scoring='neg_mean_squared_log_error')).mean())\n",
    "\n",
    "# Record the features excluded by Lasso\n",
    "excluded = []\n",
    "for i in range(len(X.columns)):\n",
    "    if reg_lasso.coef_[i] == 0:\n",
    "        excluded.append(X.columns[i])"
   ]
  },
  {
   "cell_type": "code",
   "execution_count": 25,
   "metadata": {
    "collapsed": true
   },
   "outputs": [],
   "source": [
    "# Exclude features based on Lasso's selection\n",
    "whole_selected = whole_features[:]\n",
    "for col in whole_selected.columns:\n",
    "    if col in excluded:\n",
    "        del whole_selected[col]"
   ]
  },
  {
   "cell_type": "code",
   "execution_count": 26,
   "metadata": {
    "collapsed": true
   },
   "outputs": [],
   "source": [
    "whole_selected_std = whole_features_std[:]\n",
    "for col in whole_selected_std.columns:\n",
    "    if col in excluded:\n",
    "        del whole_selected_std[col]"
   ]
  },
  {
   "cell_type": "code",
   "execution_count": 27,
   "metadata": {
    "collapsed": true
   },
   "outputs": [],
   "source": [
    "X_selected = whole_selected[0:1460]"
   ]
  },
  {
   "cell_type": "code",
   "execution_count": 28,
   "metadata": {
    "collapsed": true
   },
   "outputs": [],
   "source": [
    "X_selected_std = whole_selected_std[0:1460]"
   ]
  },
  {
   "cell_type": "code",
   "execution_count": 29,
   "metadata": {},
   "outputs": [
    {
     "name": "stderr",
     "output_type": "stream",
     "text": [
      "/Applications/anaconda3/lib/python3.6/site-packages/ipykernel_launcher.py:4: DataConversionWarning: A column-vector y was passed when a 1d array was expected. Please change the shape of y to (n_samples,), for example using ravel().\n",
      "  after removing the cwd from sys.path.\n",
      "/Applications/anaconda3/lib/python3.6/site-packages/sklearn/model_selection/_validation.py:458: DataConversionWarning: A column-vector y was passed when a 1d array was expected. Please change the shape of y to (n_samples,), for example using ravel().\n",
      "  estimator.fit(X_train, y_train, **fit_params)\n",
      "/Applications/anaconda3/lib/python3.6/site-packages/sklearn/model_selection/_validation.py:458: DataConversionWarning: A column-vector y was passed when a 1d array was expected. Please change the shape of y to (n_samples,), for example using ravel().\n",
      "  estimator.fit(X_train, y_train, **fit_params)\n"
     ]
    },
    {
     "name": "stdout",
     "output_type": "stream",
     "text": [
      "0.155329077449\n"
     ]
    },
    {
     "name": "stderr",
     "output_type": "stream",
     "text": [
      "/Applications/anaconda3/lib/python3.6/site-packages/sklearn/model_selection/_validation.py:458: DataConversionWarning: A column-vector y was passed when a 1d array was expected. Please change the shape of y to (n_samples,), for example using ravel().\n",
      "  estimator.fit(X_train, y_train, **fit_params)\n"
     ]
    }
   ],
   "source": [
    "# Random Forest\n",
    "from sklearn.ensemble import RandomForestRegressor\n",
    "reg_RF = RandomForestRegressor()\n",
    "reg_RF.fit(X,y)\n",
    "print(np.sqrt(-cross_val_score(reg_RF,X,y,scoring='neg_mean_squared_log_error')).mean())"
   ]
  },
  {
   "cell_type": "code",
   "execution_count": 30,
   "metadata": {},
   "outputs": [
    {
     "name": "stderr",
     "output_type": "stream",
     "text": [
      "/Applications/anaconda3/lib/python3.6/site-packages/ipykernel_launcher.py:3: DataConversionWarning: A column-vector y was passed when a 1d array was expected. Please change the shape of y to (n_samples,), for example using ravel().\n",
      "  This is separate from the ipykernel package so we can avoid doing imports until\n",
      "/Applications/anaconda3/lib/python3.6/site-packages/sklearn/model_selection/_validation.py:458: DataConversionWarning: A column-vector y was passed when a 1d array was expected. Please change the shape of y to (n_samples,), for example using ravel().\n",
      "  estimator.fit(X_train, y_train, **fit_params)\n",
      "/Applications/anaconda3/lib/python3.6/site-packages/sklearn/model_selection/_validation.py:458: DataConversionWarning: A column-vector y was passed when a 1d array was expected. Please change the shape of y to (n_samples,), for example using ravel().\n",
      "  estimator.fit(X_train, y_train, **fit_params)\n",
      "/Applications/anaconda3/lib/python3.6/site-packages/sklearn/model_selection/_validation.py:458: DataConversionWarning: A column-vector y was passed when a 1d array was expected. Please change the shape of y to (n_samples,), for example using ravel().\n",
      "  estimator.fit(X_train, y_train, **fit_params)\n"
     ]
    },
    {
     "name": "stdout",
     "output_type": "stream",
     "text": [
      "0.157811390517\n"
     ]
    }
   ],
   "source": [
    "# Try Random Forest with selected X\n",
    "reg_RF_sel = RandomForestRegressor()\n",
    "reg_RF_sel.fit(X_selected,y)\n",
    "print(np.sqrt(-cross_val_score(reg_RF_sel,X_selected,y,scoring='neg_mean_squared_log_error')).mean())"
   ]
  },
  {
   "cell_type": "code",
   "execution_count": 31,
   "metadata": {},
   "outputs": [
    {
     "name": "stdout",
     "output_type": "stream",
     "text": [
      "Best alpha for Ridge model: 10.0\n"
     ]
    },
    {
     "data": {
      "text/plain": [
       "0.14959002873071567"
      ]
     },
     "execution_count": 31,
     "metadata": {},
     "output_type": "execute_result"
    }
   ],
   "source": [
    "# Try Ridge with selected X\n",
    "reg_ridge_sel = linear_model.RidgeCV(alphas=[0.1,0.2,10,10.5,11,11.5,12,13,14,15,16,17,20])\n",
    "reg_ridge_sel.fit(X_selected_std,y)\n",
    "print('Best alpha for Ridge model: '+str(reg_ridge_sel.alpha_))\n",
    "# The best alpha to this model is 10\n",
    "\n",
    "# Train the model based on train_cleaned\n",
    "reg_ridge_sel = linear_model.Ridge(alpha=10)\n",
    "reg_ridge_sel.fit(X_selected_std,y)\n",
    "\n",
    "np.sqrt(-cross_val_score(reg_ridge,X_selected_std,y,scoring='neg_mean_squared_log_error')).mean()"
   ]
  },
  {
   "cell_type": "code",
   "execution_count": 43,
   "metadata": {},
   "outputs": [
    {
     "name": "stdout",
     "output_type": "stream",
     "text": [
      "Best alpha for Lasso model: 50\n",
      "0.143871898546\n"
     ]
    },
    {
     "name": "stderr",
     "output_type": "stream",
     "text": [
      "/Applications/anaconda3/lib/python3.6/site-packages/sklearn/linear_model/coordinate_descent.py:1094: DataConversionWarning: A column-vector y was passed when a 1d array was expected. Please change the shape of y to (n_samples, ), for example using ravel().\n",
      "  y = column_or_1d(y, warn=True)\n"
     ]
    },
    {
     "data": {
      "text/plain": [
       "0"
      ]
     },
     "execution_count": 43,
     "metadata": {},
     "output_type": "execute_result"
    }
   ],
   "source": [
    "# Try Lasso with selected X\n",
    "\n",
    "# Select the best regularizing parameter (alpha)\n",
    "reg_lasso_selected = linear_model.LassoCV(alphas=[5, 10, 15, 30, 50,75,100,105,110,120,125],tol=0.001) \n",
    "# The defalt tol is 0.0001, but the model does not converge until it is increased to 0.001\n",
    "reg_lasso_selected.fit(X_selected_std,y)\n",
    "print('Best alpha for Lasso model: '+str(reg_lasso_selected.alpha_))\n",
    "\n",
    "# Train the model based on train_cleaned\n",
    "reg_lasso_selected = linear_model.Lasso(alpha=50,tol=0.001)\n",
    "reg_lasso_selected.fit(X_selected_std,y)\n",
    "print(np.sqrt(-cross_val_score(reg_lasso,X_selected_std,y,scoring='neg_mean_squared_log_error')).mean())\n",
    "\n",
    "# Show the features excluded by Lasso\n",
    "excluded_2 = []\n",
    "for i in range(len(X_selected.columns)):\n",
    "    if reg_lasso_selected.coef_[i] == 0:\n",
    "        excluded.append(X_selected.columns[i])\n",
    "len(excluded_2)"
   ]
  },
  {
   "cell_type": "code",
   "execution_count": 36,
   "metadata": {
    "collapsed": true
   },
   "outputs": [],
   "source": [
    "# Predict on test set \n",
    "X_test = whole_features[1460:2919]\n",
    "sub = pd.DataFrame(columns=['Id'],data=test['Id'])"
   ]
  },
  {
   "cell_type": "code",
   "execution_count": 37,
   "metadata": {
    "collapsed": true
   },
   "outputs": [],
   "source": [
    "X_test_std = whole_features_std[1460:2919]"
   ]
  },
  {
   "cell_type": "code",
   "execution_count": 38,
   "metadata": {
    "collapsed": true
   },
   "outputs": [],
   "source": [
    "X_test_selected = whole_selected[1460:2919]\n",
    "X_test_selected_std = whole_selected_std[1460:2919]"
   ]
  },
  {
   "cell_type": "code",
   "execution_count": 238,
   "metadata": {
    "collapsed": true
   },
   "outputs": [],
   "source": [
    "# Predict using Ridge model\n",
    "sub_ridge = sub\n",
    "sub_ridge['SalePrice'] = reg_ridge.predict(X_test_std)\n",
    "sub_ridge.to_csv('Data/sub_ridge.csv',index=None)\n",
    "# Score on leaderboard: 0.14547"
   ]
  },
  {
   "cell_type": "code",
   "execution_count": 240,
   "metadata": {
    "collapsed": true
   },
   "outputs": [],
   "source": [
    "# Predict using Ridge model with selected features\n",
    "sub_ridge_selected = sub\n",
    "sub_ridge_selected['SalePrice'] = reg_ridge_sel.predict(X_test_selected_std)\n",
    "sub_ridge_selected.to_csv('Data/sub_ridge_selected.csv',index=None)\n",
    "\n",
    "# Socre on leaderboard: 0.14547"
   ]
  },
  {
   "cell_type": "code",
   "execution_count": 243,
   "metadata": {
    "collapsed": true
   },
   "outputs": [],
   "source": [
    "# Predict using Lasso model\n",
    "sub_lasso = sub\n",
    "sub_lasso['SalePrice'] = reg_lasso.predict(X_test_std)\n",
    "sub_lasso.to_csv('Data/sub_lasso.csv',index=None)\n",
    "\n",
    "# Score on leaderboard: 0.13611"
   ]
  },
  {
   "cell_type": "code",
   "execution_count": 40,
   "metadata": {
    "collapsed": true
   },
   "outputs": [],
   "source": [
    "# Predict using Lasso model with selected features\n",
    "sub_lasso_selected = sub\n",
    "sub_lasso_selected['SalePrice'] = reg_lasso_selected.predict(X_test_selected_std)\n",
    "sub_lasso_selected.to_csv('data/sub_lasso_selected.csv',index=None)\n",
    "\n",
    "# Score on leaderboard: 0.13913"
   ]
  },
  {
   "cell_type": "code",
   "execution_count": 250,
   "metadata": {
    "collapsed": true
   },
   "outputs": [],
   "source": [
    "# Predict using Random Forest\n",
    "sub_RF = sub\n",
    "sub_RF['SalePrice'] = reg_RF.predict(X_test)\n",
    "sub_RF.to_csv('Data/sub_RF.csv',index=None)\n",
    "\n",
    "# Socre on leaderboard: 0.15748"
   ]
  },
  {
   "cell_type": "code",
   "execution_count": 248,
   "metadata": {
    "collapsed": true
   },
   "outputs": [],
   "source": [
    "# Predict using Random Forest with selected features\n",
    "sub_RF_selected = sub\n",
    "sub_RF_selected['SalePrice'] = reg_RF_sel.predict(X_test_selected)\n",
    "sub_RF_selected.to_csv('Data/sub_RF_selected.csv',index=None)\n",
    "\n",
    "# Socre on leaderboard: 0.15145"
   ]
  }
 ],
 "metadata": {
  "kernelspec": {
   "display_name": "Python 3",
   "language": "python",
   "name": "python3"
  },
  "language_info": {
   "codemirror_mode": {
    "name": "ipython",
    "version": 3
   },
   "file_extension": ".py",
   "mimetype": "text/x-python",
   "name": "python",
   "nbconvert_exporter": "python",
   "pygments_lexer": "ipython3",
   "version": "3.6.1"
  }
 },
 "nbformat": 4,
 "nbformat_minor": 2
}
